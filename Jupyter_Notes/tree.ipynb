{
 "cells": [
  {
   "cell_type": "markdown",
   "metadata": {},
   "source": [
    "THEBOT\n",
    "├── .pycache__\n",
    "├── betting-bot-env\n",
    "├── certs\n",
    "├── Data\n",
    "│   └── downloads\n",
    "│       └── historical_data.zip\n",
    "├── Jupyter_Notes\n",
    "├── venv\n",
    "├── .env\n",
    "├── .gitignore\n",
    "├── betfair_client.py\n",
    "├── betting_bot.py\n",
    "├── bot_manager.py\n",
    "├── db_config.py\n",
    "├── db.py\n",
    "├── download_betfair_data.py\n",
    "├── download_historical_data.py\n",
    "├── extract_clean.py\n",
    "├── fetch_live_race_data.py\n",
    "├── flumine_client.py\n",
    "├── LICENSE\n",
    "├── models.py\n",
    "├── README.md\n",
    "├── requirements.txt\n",
    "├── server.py\n",
    "├── start_bot.sh\n",
    "└── strategy_assessment.py\n"
   ]
  }
 ],
 "metadata": {
  "language_info": {
   "name": "python"
  }
 },
 "nbformat": 4,
 "nbformat_minor": 2
}
