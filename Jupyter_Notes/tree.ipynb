{
 "cells": [
  {
   "cell_type": "markdown",
   "metadata": {},
   "source": [
    "TheBot\n",
    "├── analysis\n",
    "├── betting\n",
    "│   ├── betting_bot.py\n",
    "│   └── betting_operations.py\n",
    "├── database\n",
    "│   ├── db_check.py\n",
    "│   ├── db_config.py\n",
    "│   ├── db_connection.py\n",
    "│   ├── db_factory.py\n",
    "│   ├── db_manager.py\n",
    "│   ├── db_queries.py\n",
    "│   ├── db_setup.py\n",
    "│   ├── db_table_creation.py\n",
    "│   └── db.py\n",
    "├── historical\n",
    "│   ├── __init__.py\n",
    "│   ├── bot_automation.py\n",
    "│   ├── data_extraction.py\n",
    "│   ├── data_insertion.py\n",
    "│   ├── download_betfair_data.py\n",
    "│   ├── download_historical_data.py\n",
    "│   ├── error_handling.py\n",
    "│   ├── extract_clean.py\n",
    "│   ├── index_betfair_data.py\n",
    "│   ├── json_parse.py\n",
    "│   └── run_strategy_assessment.py\n",
    "├── strategy\n",
    "│   ├── bf_model_strat.py\n",
    "│   ├── strategy_assessment_historical.py\n",
    "│   ├── strategy_assessment_tester.py\n",
    "│   ├── strategy_assessment.py\n",
    "│   ├── strategy_manager.py\n",
    "│   └── test_strategies.py\n",
    "├── test\n",
    "├── venv\n",
    "├── __init__.py\n",
    "├── .env\n",
    "├── .gitignore\n",
    "├── betfair_client.py\n",
    "├── bot_manager.py\n",
    "├── fetch_live_race_data.py\n",
    "├── flumine_client.py\n",
    "├── LICENSE\n",
    "├── models.py\n",
    "├── README.md\n",
    "├── requirements.txt\n",
    "├── server.py\n",
    "├── start_bot.sh\n",
    "├── stop_bot.sh\n",
    "└── utils.py\n"
   ]
  }
 ],
 "metadata": {
  "language_info": {
   "name": "python"
  }
 },
 "nbformat": 4,
 "nbformat_minor": 2
}
