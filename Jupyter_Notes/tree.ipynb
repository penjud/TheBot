{
 "cells": [
  {
   "cell_type": "markdown",
   "metadata": {},
   "source": [
    "├── .env\n",
    "    ├── .gitignore\n",
    "    ├── betfair_client.py\n",
    "    ├── betting_bot.py\n",
    "    ├── bot_manager.py\n",
    "    ├── db.py\n",
    "    ├── flumine_client.py\n",
    "    ├── LICENSE\n",
    "    ├── models.py\n",
    "    ├── README.md\n",
    "    ├── requirements.txt\n",
    "    ├── server.py\n",
    "    └── strategy_assessment.py"
   ]
  }
 ],
 "metadata": {
  "language_info": {
   "name": "python"
  }
 },
 "nbformat": 4,
 "nbformat_minor": 2
}
