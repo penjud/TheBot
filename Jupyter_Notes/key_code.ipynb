{
 "cells": [
  {
   "cell_type": "markdown",
   "metadata": {},
   "source": [
    "python3 server.py\n",
    "\n",
    "sudo service postgresql start\n",
    "sudo -u postgres psql\n",
    "\n",
    "python3 -m http.server 8000\n",
    "\n",
    "git add .\n",
    "git commit -m \"Commit42\"\n",
    "git push origin main\n",
    "\n",
    "curl -X POST http://localhost:5000/start\n",
    "\n",
    "curl -X POST http://localhost:5000/stop\n",
    "\n",
    "./start_bot.sh\n",
    "\n",
    "search for port being used\n",
    "lsof -i :5000\n",
    "kill PID\n"
   ]
  },
  {
   "cell_type": "markdown",
   "metadata": {},
   "source": []
  }
 ],
 "metadata": {
  "language_info": {
   "name": "python"
  }
 },
 "nbformat": 4,
 "nbformat_minor": 2
}
